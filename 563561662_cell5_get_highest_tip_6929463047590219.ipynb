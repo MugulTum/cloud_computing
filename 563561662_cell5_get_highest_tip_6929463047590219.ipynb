from pyspark.sql.functions import col, round

def get_highest_tip(df):
    # Calculate the highest tip
    highest_tip = df.select(round(col("tip_amount"), 2).alias("highest_tip")).orderBy(col("tip_amount"), ascending=False).limit(1)
    
    return highest_tip
