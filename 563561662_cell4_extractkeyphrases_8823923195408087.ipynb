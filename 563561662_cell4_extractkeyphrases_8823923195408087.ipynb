# Load pre-trained keyphrase extraction pipeline
keyphrase_pipeline = PretrainedPipeline("explain_document_dl", lang="en")

# Apply keyphrase extraction pipeline to the text data
keyphrase_df = keyphrase_pipeline.transform(processed_df)

# Select the top 10 key phrases based on frequency
top_keyphrases = keyphrase_df.select(explode("keyphrases.result").alias("keyphrase")) \
                             .groupBy("keyphrase").count() \
                             .orderBy(col("count").desc()).limit(10)
