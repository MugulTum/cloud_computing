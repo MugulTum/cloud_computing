from pyspark.sql import SparkSession

def load_data():
    spark = SparkSession.builder \
        .appName("LoadData") \
        .getOrCreate()
    
    # Read data from Google Storage Bucket into a Spark DataFrame
    df = spark.read.csv("gs://your_bucket_name/path_to_data/yellow_tripdata09-08-2021.csv", header=True, inferSchema=True)
    
    return df
 