def get_total_toll(df):
    # Calculate the total toll amount
    total_toll = df.agg(round(sum("tolls_amount"), 2).alias("total_toll"))
    
    return total_toll
