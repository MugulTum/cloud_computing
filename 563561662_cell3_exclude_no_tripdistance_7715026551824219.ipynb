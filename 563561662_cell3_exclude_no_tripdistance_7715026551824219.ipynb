def exclude_no_tripdistance(df):
    # Exclude trips with no distance
    filtered_df = df.filter(df["trip_distance"].isNotNull() & (df["trip_distance"] != 0))
    
    return filtered_df
