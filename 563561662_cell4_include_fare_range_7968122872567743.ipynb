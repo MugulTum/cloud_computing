def include_fare_range(df):
    # Include trips with fare between $20 and $60
    filtered_df = df.filter((df["fare_amount"] >= 20) & (df["fare_amount"] <= 60))
    
    return filtered_df
