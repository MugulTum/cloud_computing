from sparknlp.pretrained import PretrainedPipeline

# Load pre-trained sentiment analysis pipeline
sentiment_pipeline = PretrainedPipeline("analyze_sentimentdl_use_imdb", lang="en")

# Apply sentiment analysis pipeline to the text data
processed_df = sentiment_pipeline.transform(processed_df)
