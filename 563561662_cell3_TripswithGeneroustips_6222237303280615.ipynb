def distance_with_most_tip(df):
    # Filter trips with fares greater than $2.00 and trip distances greater than 0
    df = df.filter((col("fare_amount") > 2.00) & (col("trip_distance") > 0))
    
    # Calculate tip percent for each trip
    df = df.withColumn("tip_percent", (col("tip_amount") * 100) / col("fare_amount"))
    
    # Round trip distances up to the closest mile
    df = df.withColumn("trip_distance", round(col("trip_distance")).cast(IntegerType()))
    
    # Group by rounded trip distance and compute average tip percent
    df = df.groupBy("trip_distance").agg(avg("tip_percent").alias("tip_percent")).orderBy(col("tip_percent").desc()).limit(15)
    
    return df

# Find trip distances with most generous tips
trip_distances_with_tips = distance_with_most_tip(df_cleaned)
trip_distances_with_tips.show()
