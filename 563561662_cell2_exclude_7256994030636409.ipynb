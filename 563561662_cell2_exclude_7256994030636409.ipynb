def exclude_no_pickuplocations(df):
    # Exclude trips with no pick-up locations
    filtered_df = df.filter(df["pulocationid"].isNotNull() & (df["pulocationid"] != 0))
    
    return filtered_df
